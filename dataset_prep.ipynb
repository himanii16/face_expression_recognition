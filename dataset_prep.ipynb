{
 "cells": [
  {
   "cell_type": "code",
   "execution_count": 10,
   "metadata": {},
   "outputs": [],
   "source": [
    "import numpy as np\n",
    "import pandas as pd \n",
    "from PIL import Image\n",
    "from tqdm import tqdm\n",
    "import os"
   ]
  },
  {
   "cell_type": "code",
   "execution_count": 4,
   "metadata": {},
   "outputs": [
    {
     "name": "stdout",
     "output_type": "stream",
     "text": [
      "Collecting pandas\n",
      "  Downloading pandas-1.0.3-cp36-cp36m-manylinux1_x86_64.whl (10.0 MB)\n",
      "\u001b[K     |████████████████████████████████| 10.0 MB 82 kB/s eta 0:00:011\n",
      "\u001b[?25hRequirement already satisfied: numpy>=1.13.3 in /home/blackcat/projects/projects/lib/python3.6/site-packages (from pandas) (1.18.2)\n",
      "Requirement already satisfied: python-dateutil>=2.6.1 in /home/blackcat/projects/projects/lib/python3.6/site-packages (from pandas) (2.8.1)\n",
      "Collecting pytz>=2017.2\n",
      "  Downloading pytz-2019.3-py2.py3-none-any.whl (509 kB)\n",
      "\u001b[K     |████████████████████████████████| 509 kB 109 kB/s eta 0:00:01\n",
      "\u001b[?25hRequirement already satisfied: six>=1.5 in /home/blackcat/projects/projects/lib/python3.6/site-packages (from python-dateutil>=2.6.1->pandas) (1.14.0)\n",
      "Installing collected packages: pytz, pandas\n",
      "Successfully installed pandas-1.0.3 pytz-2019.3\n"
     ]
    }
   ],
   "source": [
    "!pip install pandas"
   ]
  },
  {
   "cell_type": "code",
   "execution_count": 7,
   "metadata": {},
   "outputs": [
    {
     "name": "stdout",
     "output_type": "stream",
     "text": [
      "Requirement already up-to-date: pip in /home/blackcat/projects/projects/lib/python3.6/site-packages (20.0.2)\n",
      "Collecting Pillow\n",
      "  Downloading Pillow-7.1.1-cp36-cp36m-manylinux1_x86_64.whl (2.1 MB)\n",
      "\u001b[K     |████████████████████████████████| 2.1 MB 77 kB/s eta 0:00:011\n",
      "\u001b[?25hInstalling collected packages: Pillow\n",
      "Successfully installed Pillow-7.1.1\n"
     ]
    }
   ],
   "source": [
    "!pip install --upgrade pip\n",
    "!pip install --upgrade Pillow"
   ]
  },
  {
   "cell_type": "code",
   "execution_count": 9,
   "metadata": {},
   "outputs": [
    {
     "name": "stdout",
     "output_type": "stream",
     "text": [
      "Collecting tqdm\n",
      "  Downloading tqdm-4.45.0-py2.py3-none-any.whl (60 kB)\n",
      "\u001b[K     |████████████████████████████████| 60 kB 155 kB/s eta 0:00:01\n",
      "\u001b[?25hInstalling collected packages: tqdm\n",
      "Successfully installed tqdm-4.45.0\n"
     ]
    }
   ],
   "source": [
    "!pip install tqdm"
   ]
  },
  {
   "cell_type": "code",
   "execution_count": 11,
   "metadata": {},
   "outputs": [],
   "source": [
    "# convert string to integer\n",
    "#ord is inbuilt function of python to get unicode value of a number (like ASCII value)\n",
    "def atoi(s):\n",
    "    n = 0\n",
    "    for i in s:\n",
    "        n = n*10 + ord(i) - ord(\"0\")  \n",
    "    return n"
   ]
  },
  {
   "cell_type": "code",
   "execution_count": 12,
   "metadata": {},
   "outputs": [],
   "source": [
    "# making folders\n",
    "outer_names = ['test','train']\n",
    "inner_names = ['angry', 'disgusted', 'fearful', 'happy', 'sad', 'surprised', 'neutral']"
   ]
  },
  {
   "cell_type": "code",
   "execution_count": 14,
   "metadata": {},
   "outputs": [],
   "source": [
    "# making directory with the name data\n",
    "try:\n",
    "    os.makedirs('data', exist_ok=True)\n",
    "except OSError as error:\n",
    "    print (\"Dir not created\")"
   ]
  },
  {
   "cell_type": "code",
   "execution_count": 16,
   "metadata": {},
   "outputs": [],
   "source": [
    "# first 2 directories will be there in data : train and test\n",
    "# then in both the directories there will be directory of all the inner names \n",
    "for outer_name in outer_names:\n",
    "    os.makedirs(os.path.join('data',outer_name), exist_ok=True)\n",
    "    for inner_name in inner_names:\n",
    "        os.makedirs(os.path.join('data',outer_name,inner_name), exist_ok=True)"
   ]
  },
  {
   "cell_type": "code",
   "execution_count": 17,
   "metadata": {},
   "outputs": [],
   "source": [
    "# to keep count of each category\n",
    "angry = 0\n",
    "disgusted = 0\n",
    "fearful = 0\n",
    "happy = 0\n",
    "sad = 0\n",
    "surprised = 0\n",
    "neutral = 0\n",
    "angry_test = 0\n",
    "disgusted_test = 0\n",
    "fearful_test = 0\n",
    "happy_test = 0\n",
    "sad_test = 0\n",
    "surprised_test = 0\n",
    "neutral_test = 0"
   ]
  },
  {
   "cell_type": "code",
   "execution_count": 19,
   "metadata": {},
   "outputs": [],
   "source": [
    "df = pd.read_csv('./fer2013.csv')"
   ]
  },
  {
   "cell_type": "code",
   "execution_count": 20,
   "metadata": {},
   "outputs": [
    {
     "name": "stdout",
     "output_type": "stream",
     "text": [
      "Saving images...\n"
     ]
    }
   ],
   "source": [
    "mat = np.zeros((48,48),dtype=np.uint8)\n",
    "print(\"Saving images...\")"
   ]
  },
  {
   "cell_type": "code",
   "execution_count": 33,
   "metadata": {},
   "outputs": [
    {
     "name": "stderr",
     "output_type": "stream",
     "text": [
      "100%|██████████| 35887/35887 [03:51<00:00, 155.35it/s]"
     ]
    },
    {
     "name": "stdout",
     "output_type": "stream",
     "text": [
      "Done!\n"
     ]
    },
    {
     "name": "stderr",
     "output_type": "stream",
     "text": [
      "\n"
     ]
    }
   ],
   "source": [
    "# read the csv file line by line\n",
    "for i in tqdm(range(len(df))):\n",
    "    txt = df['pixels'][i]\n",
    "    words = txt.split()\n",
    "    \n",
    "    # the image size is 48x48\n",
    "    for j in range(2304):\n",
    "        xind = j // 48\n",
    "        yind = j % 48\n",
    "        mat[xind][yind] = atoi(words[j])\n",
    "\n",
    "    img = Image.fromarray(mat)\n",
    "    \n",
    "    # train\n",
    "    if i < 28709:\n",
    "        if df['emotion'][i] == 0:\n",
    "            img.save('data/train/angry/im'+str(angry)+'.png')\n",
    "            angry += 1\n",
    "        elif df['emotion'][i] == 1:\n",
    "            img.save('data/train/disgusted/im'+str(disgusted)+'.png')\n",
    "            disgusted += 1\n",
    "        elif df['emotion'][i] == 2:\n",
    "            img.save('data/train/fearful/im'+str(fearful)+'.png')\n",
    "            fearful += 1\n",
    "        elif df['emotion'][i] == 3:\n",
    "            img.save('data/train/happy/im'+str(happy)+'.png')\n",
    "            happy += 1\n",
    "        elif df['emotion'][i] == 4:\n",
    "            img.save('data/train/sad/im'+str(sad)+'.png')\n",
    "            sad += 1\n",
    "        elif df['emotion'][i] == 5:\n",
    "            img.save('data/train/surprised/im'+str(surprised)+'.png')\n",
    "            surprised += 1\n",
    "        elif df['emotion'][i] == 6:\n",
    "            img.save('data/train/neutral/im'+str(neutral)+'.png')\n",
    "            neutral += 1\n",
    "\n",
    "    # test\n",
    "    else:\n",
    "        if df['emotion'][i] == 0:\n",
    "            img.save('data/test/angry/im'+str(angry_test)+'.png')\n",
    "            angry_test += 1\n",
    "        elif df['emotion'][i] == 1:\n",
    "            img.save('data/test/disgusted/im'+str(disgusted_test)+'.png')\n",
    "            disgusted_test += 1\n",
    "        elif df['emotion'][i] == 2:\n",
    "            img.save('data/test/fearful/im'+str(fearful_test)+'.png')\n",
    "            fearful_test += 1\n",
    "        elif df['emotion'][i] == 3:\n",
    "            img.save('data/test/happy/im'+str(happy_test)+'.png')\n",
    "            happy_test += 1\n",
    "        elif df['emotion'][i] == 4:\n",
    "            img.save('data/test/sad/im'+str(sad_test)+'.png')\n",
    "            sad_test += 1\n",
    "        elif df['emotion'][i] == 5:\n",
    "            img.save('data/test/surprised/im'+str(surprised_test)+'.png')\n",
    "            surprised_test += 1\n",
    "        elif df['emotion'][i] == 6:\n",
    "            img.save('data/test/neutral/im'+str(neutral_test)+'.png')\n",
    "            neutral_test += 1\n",
    "\n",
    "print(\"Done!\")"
   ]
  },
  {
   "cell_type": "code",
   "execution_count": null,
   "metadata": {},
   "outputs": [],
   "source": []
  },
  {
   "cell_type": "code",
   "execution_count": null,
   "metadata": {},
   "outputs": [],
   "source": []
  }
 ],
 "metadata": {
  "kernelspec": {
   "display_name": "Python 3",
   "language": "python",
   "name": "python3"
  },
  "language_info": {
   "codemirror_mode": {
    "name": "ipython",
    "version": 3
   },
   "file_extension": ".py",
   "mimetype": "text/x-python",
   "name": "python",
   "nbconvert_exporter": "python",
   "pygments_lexer": "ipython3",
   "version": "3.6.9"
  }
 },
 "nbformat": 4,
 "nbformat_minor": 4
}
